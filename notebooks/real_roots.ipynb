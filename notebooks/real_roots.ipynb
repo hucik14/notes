{
 "cells": [
  {
   "cell_type": "markdown",
   "metadata": {},
   "source": [
    "### Real Zeros of Polynomials"
   ]
  },
  {
   "cell_type": "code",
   "execution_count": 105,
   "metadata": {},
   "outputs": [],
   "source": [
    "import sympy as sp\n",
    "import matplotlib.pyplot as plt\n",
    "%matplotlib inline\n",
    "\n",
    "# initiate pretty print\n",
    "sp.init_printing()\n",
    "\n",
    "# define parameter\n",
    "t = sp.Symbol('t')"
   ]
  },
  {
   "cell_type": "markdown",
   "metadata": {},
   "source": [
    "Define polynomial"
   ]
  },
  {
   "cell_type": "code",
   "execution_count": 106,
   "metadata": {},
   "outputs": [
    {
     "data": {
      "image/png": "[encoded data removed]",
      "text/latex": [
       "$\\displaystyle t^{5} - t^{3} + t^{2} + 1$"
      ],
      "text/plain": [
       " 5    3    2    \n",
       "t  - t  + t  + 1"
      ]
     },
     "execution_count": 106,
     "metadata": {},
     "output_type": "execute_result"
    }
   ],
   "source": [
    "my_polynomial = t**2 + 1\n",
    "my_polynomial"
   ]
  },
  {
   "cell_type": "markdown",
   "metadata": {},
   "source": [
    "Check: find roots (solve p for t), and plot it"
   ]
  },
  {
   "cell_type": "code",
   "execution_count": 107,
   "metadata": {},
   "outputs": [
    {
     "data": {
      "image/png": "[encoded data removed]",
      "text/latex": [
       "$\\displaystyle \\left[ -1.42910831983815, \\  -0.210009648163893 - 0.713003963456958 i, \\  -0.210009648163893 + 0.713003963456958 i, \\  0.924563808082966 - 0.641656396016413 i, \\  0.924563808082966 + 0.641656396016413 i\\right]$"
      ],
      "text/plain": [
       "[-1.42910831983815, -0.210009648163893 - 0.713003963456958⋅ⅈ, -0.2100096481638\n",
       "93 + 0.713003963456958⋅ⅈ, 0.924563808082966 - 0.641656396016413⋅ⅈ, 0.924563808\n",
       "082966 + 0.641656396016413⋅ⅈ]"
      ]
     },
     "execution_count": 107,
     "metadata": {},
     "output_type": "execute_result"
    }
   ],
   "source": [
    "# define Sympy polynomial object \n",
    "p = sp.Poly(my_polynomial, t, domain='RR')\n",
    "\n",
    "# get roots of p for t\n",
    "roots = sp.solve(p, t)\n",
    "roots"
   ]
  },
  {
   "cell_type": "code",
   "execution_count": 108,
   "metadata": {},
   "outputs": [
    {
     "data": {
      "image/png": "[encoded data removed]",
      "text/plain": [
       "<Figure size 640x480 with 1 Axes>"
      ]
     },
     "metadata": {},
     "output_type": "display_data"
    }
   ],
   "source": [
    "ax = sp.plot(my_polynomial, xlim=(-2, 2), ylim=(-2,4), aspect_ratio=(1,1))"
   ]
  },
  {
   "cell_type": "markdown",
   "metadata": {},
   "source": [
    "Prepare polynomial, companion matrix, newton sums, Hankel matrix"
   ]
  },
  {
   "cell_type": "code",
   "execution_count": 109,
   "metadata": {},
   "outputs": [],
   "source": [
    "# get coefficients and degree of polynomial\n",
    "coeffs = p.all_coeffs()\n",
    "deg = p.degree()"
   ]
  },
  {
   "cell_type": "code",
   "execution_count": 110,
   "metadata": {},
   "outputs": [
    {
     "data": {
      "text/latex": [
       "$\\displaystyle \\left[\\begin{matrix}0 & 0 & 0 & 0 & -1.0\\\\1 & 0 & 0 & 0 & 0\\\\0 & 1 & 0 & 0 & -1.0\\\\0 & 0 & 1 & 0 & 1.0\\\\0 & 0 & 0 & 1 & 0\\end{matrix}\\right]$"
      ],
      "text/plain": [
       "⎡0  0  0  0  -1.0⎤\n",
       "⎢                ⎥\n",
       "⎢1  0  0  0   0  ⎥\n",
       "⎢                ⎥\n",
       "⎢0  1  0  0  -1.0⎥\n",
       "⎢                ⎥\n",
       "⎢0  0  1  0  1.0 ⎥\n",
       "⎢                ⎥\n",
       "⎣0  0  0  1   0  ⎦"
      ]
     },
     "execution_count": 110,
     "metadata": {},
     "output_type": "execute_result"
    }
   ],
   "source": [
    "# companion matrix\n",
    "companion_matrix = sp.zeros(deg)\n",
    "for i in range(deg - 1):\n",
    "    companion_matrix[i + 1, i] = 1\n",
    "for i in range(deg):\n",
    "    companion_matrix[i, -1] = -1 * coeffs[::-1][i]\n",
    "\n",
    "companion_matrix\n",
    "\n"
   ]
  },
  {
   "cell_type": "code",
   "execution_count": 111,
   "metadata": {},
   "outputs": [
    {
     "data": {
      "image/png": "[encoded data removed]",
      "text/latex": [
       "$\\displaystyle \\left[ 5, \\  0, \\  2.0, \\  -3.0, \\  2.0, \\  -10.0, \\  5.0, \\  -14.0, \\  18.0\\right]$"
      ],
      "text/plain": [
       "[5, 0, 2.0, -3.0, 2.0, -10.0, 5.0, -14.0, 18.0]"
      ]
     },
     "execution_count": 111,
     "metadata": {},
     "output_type": "execute_result"
    }
   ],
   "source": [
    "# newton sums\n",
    "newton_sums = []\n",
    "for k in range(2*deg - 1):\n",
    "    newton_sum_k = companion_matrix ** k\n",
    "    newton_sums.append(newton_sum_k.trace())\n",
    "\n",
    "newton_sums"
   ]
  },
  {
   "cell_type": "code",
   "execution_count": 112,
   "metadata": {},
   "outputs": [
    {
     "data": {
      "text/latex": [
       "$\\displaystyle \\left[\\begin{matrix}5 & 0 & 2.0 & -3.0 & 2.0\\\\0 & 2.0 & -3.0 & 2.0 & -10.0\\\\2.0 & -3.0 & 2.0 & -10.0 & 5.0\\\\-3.0 & 2.0 & -10.0 & 5.0 & -14.0\\\\2.0 & -10.0 & 5.0 & -14.0 & 18.0\\end{matrix}\\right]$"
      ],
      "text/plain": [
       "⎡ 5      0     2.0   -3.0    2.0 ⎤\n",
       "⎢                                ⎥\n",
       "⎢ 0     2.0   -3.0    2.0   -10.0⎥\n",
       "⎢                                ⎥\n",
       "⎢2.0   -3.0    2.0   -10.0   5.0 ⎥\n",
       "⎢                                ⎥\n",
       "⎢-3.0   2.0   -10.0   5.0   -14.0⎥\n",
       "⎢                                ⎥\n",
       "⎣2.0   -10.0   5.0   -14.0  18.0 ⎦"
      ]
     },
     "execution_count": 112,
     "metadata": {},
     "output_type": "execute_result"
    }
   ],
   "source": [
    "# construct the Hankel matrix\n",
    "hankel_matrix = sp.zeros(deg)\n",
    "for i in range(deg):\n",
    "    for j in range(deg):\n",
    "        hankel_matrix[i, j] = newton_sums[i+j]\n",
    "\n",
    "hankel_matrix"
   ]
  },
  {
   "cell_type": "code",
   "execution_count": 113,
   "metadata": {},
   "outputs": [
    {
     "data": {
      "image/png": "[encoded data removed]",
      "text/latex": [
       "$\\displaystyle \\left[ -9.4412128169195, \\  -1.43168007459449, \\  2.6156593773102, \\  6.42369622426101, \\  33.8335372899428\\right]$"
      ],
      "text/plain": [
       "[-9.4412128169195, -1.43168007459449, 2.6156593773102, 6.42369622426101, 33.83\n",
       "35372899428]"
      ]
     },
     "execution_count": 113,
     "metadata": {},
     "output_type": "execute_result"
    }
   ],
   "source": [
    "# calculate the eigenvalues of the Hankel matrix\n",
    "eigenvalues_dict = hankel_matrix.eigenvals()\n",
    "\n",
    "# covert the output dictionary with multiplicities to a list of eigenvalues\n",
    "eigenvalues = [key for key, value in eigenvalues_dict.items() for _ in range(value)]\n",
    "eigenvalues"
   ]
  },
  {
   "cell_type": "code",
   "execution_count": 114,
   "metadata": {},
   "outputs": [],
   "source": [
    "# Count the positive and negative eigenvalues\n",
    "positive_eigenvalues = sum(1 for eigenvalue in eigenvalues if eigenvalue > 0)\n",
    "negative_eigenvalues = sum(1 for eigenvalue in eigenvalues if eigenvalue < 0)\n",
    "\n",
    "# Calculate the signature\n",
    "signature = positive_eigenvalues - negative_eigenvalues\n",
    "rank = hankel_matrix.rank()"
   ]
  },
  {
   "cell_type": "markdown",
   "metadata": {},
   "source": [
    "Rank of the matrix:"
   ]
  },
  {
   "cell_type": "code",
   "execution_count": 115,
   "metadata": {},
   "outputs": [
    {
     "data": {
      "image/png": "[encoded data removed]",
      "text/latex": [
       "$\\displaystyle 5$"
      ],
      "text/plain": [
       "5"
      ]
     },
     "execution_count": 115,
     "metadata": {},
     "output_type": "execute_result"
    }
   ],
   "source": [
    "rank"
   ]
  },
  {
   "cell_type": "markdown",
   "metadata": {},
   "source": [
    "Signature of the matrix:"
   ]
  },
  {
   "cell_type": "code",
   "execution_count": 116,
   "metadata": {},
   "outputs": [
    {
     "data": {
      "image/png": "[encoded data removed]",
      "text/latex": [
       "$\\displaystyle 1$"
      ],
      "text/plain": [
       "1"
      ]
     },
     "execution_count": 116,
     "metadata": {},
     "output_type": "execute_result"
    }
   ],
   "source": [
    "signature"
   ]
  },
  {
   "cell_type": "markdown",
   "metadata": {},
   "source": [
    "Roots again:"
   ]
  },
  {
   "cell_type": "code",
   "execution_count": 117,
   "metadata": {},
   "outputs": [
    {
     "data": {
      "image/png": "[encoded data removed]",
      "text/latex": [
       "$\\displaystyle \\left[ -1.42910831983815, \\  -0.210009648163893 - 0.713003963456958 i, \\  -0.210009648163893 + 0.713003963456958 i, \\  0.924563808082966 - 0.641656396016413 i, \\  0.924563808082966 + 0.641656396016413 i\\right]$"
      ],
      "text/plain": [
       "[-1.42910831983815, -0.210009648163893 - 0.713003963456958⋅ⅈ, -0.2100096481638\n",
       "93 + 0.713003963456958⋅ⅈ, 0.924563808082966 - 0.641656396016413⋅ⅈ, 0.924563808\n",
       "082966 + 0.641656396016413⋅ⅈ]"
      ]
     },
     "execution_count": 117,
     "metadata": {},
     "output_type": "execute_result"
    }
   ],
   "source": [
    "roots"
   ]
  }
 ],
 "metadata": {
  "kernelspec": {
   "display_name": ".venv",
   "language": "python",
   "name": "python3"
  },
  "language_info": {
   "codemirror_mode": {
    "name": "ipython",
    "version": 3
   },
   "file_extension": ".py",
   "mimetype": "text/x-python",
   "name": "python",
   "nbconvert_exporter": "python",
   "pygments_lexer": "ipython3",
   "version": "3.11.5"
  }
 },
 "nbformat": 4,
 "nbformat_minor": 2
}
