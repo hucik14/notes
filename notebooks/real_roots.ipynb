{
 "cells": [
  {
   "cell_type": "markdown",
   "metadata": {},
   "source": [
    "Notes"
   ]
  },
  {
   "cell_type": "code",
   "execution_count": 2,
   "metadata": {},
   "outputs": [],
   "source": [
    "import sympy as sp\n",
    "import matplotlib.pyplot as plt\n",
    "%matplotlib inline\n",
    "\n",
    "\n",
    "# initiate pretty print\n",
    "sp.init_printing()\n",
    "\n",
    "# define parameter\n",
    "t = sp.Symbol('t')"
   ]
  },
  {
   "cell_type": "markdown",
   "metadata": {},
   "source": [
    "Define polynomial"
   ]
  },
  {
   "cell_type": "code",
   "execution_count": 3,
   "metadata": {},
   "outputs": [
    {
     "data": {
      "image/png": "[encoded data removed]",
      "text/latex": [
       "$\\displaystyle t^{2} + 1$"
      ],
      "text/plain": [
       " 2    \n",
       "t  + 1"
      ]
     },
     "execution_count": 3,
     "metadata": {},
     "output_type": "execute_result"
    }
   ],
   "source": [
    "my_polynomial = t**2 + 1\n",
    "my_polynomial"
   ]
  },
  {
   "cell_type": "markdown",
   "metadata": {},
   "source": [
    "Plot the polynomial and find roots (solve p for t), including multiplicities"
   ]
  },
  {
   "cell_type": "code",
   "execution_count": 4,
   "metadata": {},
   "outputs": [
    {
     "data": {
      "image/png": "[encoded data removed]",
      "text/latex": [
       "$\\displaystyle \\left\\{ - i : 1, \\  i : 1\\right\\}$"
      ],
      "text/plain": [
       "{-ⅈ: 1, ⅈ: 1}"
      ]
     },
     "execution_count": 4,
     "metadata": {},
     "output_type": "execute_result"
    }
   ],
   "source": [
    "#ax = sp.plot(my_polynomial, xlim=(-2, 2), ylim=(0,4), aspect_ratio=(1,1))\n",
    "\n",
    "roots = sp.roots(my_polynomial)\n",
    "roots"
   ]
  },
  {
   "cell_type": "markdown",
   "metadata": {},
   "source": [
    "Hankel matrix of polynomial"
   ]
  },
  {
   "cell_type": "code",
   "execution_count": 5,
   "metadata": {},
   "outputs": [
    {
     "data": {
      "text/latex": [
       "$\\displaystyle \\left[\\begin{matrix}2 & 0\\\\0 & -2.0\\end{matrix}\\right]$"
      ],
      "text/plain": [
       "⎡2   0  ⎤\n",
       "⎢       ⎥\n",
       "⎣0  -2.0⎦"
      ]
     },
     "execution_count": 5,
     "metadata": {},
     "output_type": "execute_result"
    }
   ],
   "source": [
    "p = sp.Poly(my_polynomial, t, domain='RR')\n",
    "coeffs = p.all_coeffs()\n",
    "\n",
    "deg = p.degree()\n",
    "\n",
    "n = sp.symbols('n')\n",
    "newton_sums = [deg, -1*coeffs[1], coeffs[1]**2 - 2*coeffs[2]]\n",
    "# https://brilliant.org/wiki/newtons-identities/\n",
    "\n",
    "# Construct the Hankel matrix\n",
    "hankel_matrix = sp.zeros(deg)\n",
    "for i in range(deg):\n",
    "    for j in range(deg):\n",
    "        hankel_matrix[i, j] = newton_sums[i + j]\n",
    "\n",
    "hankel_matrix"
   ]
  },
  {
   "cell_type": "markdown",
   "metadata": {},
   "source": []
  }
 ],
 "metadata": {
  "kernelspec": {
   "display_name": ".venv",
   "language": "python",
   "name": "python3"
  },
  "language_info": {
   "codemirror_mode": {
    "name": "ipython",
    "version": 3
   },
   "file_extension": ".py",
   "mimetype": "text/x-python",
   "name": "python",
   "nbconvert_exporter": "python",
   "pygments_lexer": "ipython3",
   "version": "3.11.5"
  }
 },
 "nbformat": 4,
 "nbformat_minor": 2
}
