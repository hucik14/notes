{
 "cells": [
  {
   "cell_type": "markdown",
   "metadata": {},
   "source": [
    "### Real Zeros of Polynomials"
   ]
  },
  {
   "cell_type": "code",
   "execution_count": 1,
   "metadata": {},
   "outputs": [],
   "source": [
    "import sympy as sp\n",
    "import matplotlib.pyplot as plt\n",
    "%matplotlib inline\n",
    "\n",
    "# initiate pretty print\n",
    "sp.init_printing()\n",
    "\n",
    "# define parameter\n",
    "t = sp.Symbol('t')"
   ]
  },
  {
   "cell_type": "markdown",
   "metadata": {},
   "source": [
    "Define polynomial"
   ]
  },
  {
   "cell_type": "code",
   "execution_count": 2,
   "metadata": {},
   "outputs": [
    {
     "data": {
      "image/png": "[encoded data removed]",
      "text/latex": [
       "$\\displaystyle t^{2} + 1$"
      ],
      "text/plain": [
       " 2    \n",
       "t  + 1"
      ]
     },
     "execution_count": 2,
     "metadata": {},
     "output_type": "execute_result"
    }
   ],
   "source": [
    "my_polynomial = t**2 + 1\n",
    "my_polynomial"
   ]
  },
  {
   "cell_type": "markdown",
   "metadata": {},
   "source": [
    "Check: find roots (solve p for t), and plot it"
   ]
  },
  {
   "cell_type": "code",
   "execution_count": 3,
   "metadata": {},
   "outputs": [
    {
     "data": {
      "image/png": "[encoded data removed]",
      "text/latex": [
       "$\\displaystyle \\left[ - 1.0 i, \\  1.0 i\\right]$"
      ],
      "text/plain": [
       "[-1.0⋅ⅈ, 1.0⋅ⅈ]"
      ]
     },
     "execution_count": 3,
     "metadata": {},
     "output_type": "execute_result"
    }
   ],
   "source": [
    "# define Sympy polynomial object \n",
    "p = sp.Poly(my_polynomial, t, domain='RR')\n",
    "\n",
    "# get roots of p for t\n",
    "roots = sp.solve(p, t)\n",
    "roots"
   ]
  },
  {
   "cell_type": "code",
   "execution_count": 4,
   "metadata": {},
   "outputs": [
    {
     "data": {
      "image/png": "[encoded data removed]",
      "text/plain": [
       "<Figure size 640x480 with 1 Axes>"
      ]
     },
     "metadata": {},
     "output_type": "display_data"
    }
   ],
   "source": [
    "ax = sp.plot(my_polynomial, xlim=(-2, 2), ylim=(-2,4), aspect_ratio=(1,1))"
   ]
  },
  {
   "cell_type": "markdown",
   "metadata": {},
   "source": [
    "Prepare polynomial, companion matrix, newton sums, Hankel matrix"
   ]
  },
  {
   "cell_type": "code",
   "execution_count": 5,
   "metadata": {},
   "outputs": [
    {
     "data": {
      "image/png": "[encoded data removed]",
      "text/latex": [
       "$\\displaystyle \\left[ 1.0, \\  0.0, \\  1.0\\right]$"
      ],
      "text/plain": [
       "[1.0, 0.0, 1.0]"
      ]
     },
     "execution_count": 5,
     "metadata": {},
     "output_type": "execute_result"
    }
   ],
   "source": [
    "# get coefficients and degree of polynomial\n",
    "coeffs = p.all_coeffs()\n",
    "deg = p.degree()\n",
    "coeffs"
   ]
  },
  {
   "cell_type": "code",
   "execution_count": 6,
   "metadata": {},
   "outputs": [
    {
     "data": {
      "text/latex": [
       "$\\displaystyle \\left[\\begin{matrix}0 & -1.0\\\\1 & 0\\end{matrix}\\right]$"
      ],
      "text/plain": [
       "⎡0  -1.0⎤\n",
       "⎢       ⎥\n",
       "⎣1   0  ⎦"
      ]
     },
     "execution_count": 6,
     "metadata": {},
     "output_type": "execute_result"
    }
   ],
   "source": [
    "# companion matrix\n",
    "companion_matrix = sp.zeros(deg)\n",
    "for i in range(deg - 1):\n",
    "    companion_matrix[i + 1, i] = 1\n",
    "for i in range(deg):\n",
    "    companion_matrix[i, -1] = -1 * coeffs[::-1][i]\n",
    "\n",
    "companion_matrix\n",
    "\n"
   ]
  },
  {
   "cell_type": "code",
   "execution_count": 7,
   "metadata": {},
   "outputs": [
    {
     "data": {
      "image/png": "[encoded data removed]",
      "text/latex": [
       "$\\displaystyle \\left[ 2, \\  0, \\  -2.0\\right]$"
      ],
      "text/plain": [
       "[2, 0, -2.0]"
      ]
     },
     "execution_count": 7,
     "metadata": {},
     "output_type": "execute_result"
    }
   ],
   "source": [
    "# newton sums\n",
    "# k-th newton sum is the trace of the k-th power of the companion matrix\n",
    "newton_sums = []\n",
    "for k in range(2*deg - 1):\n",
    "    newton_sum_k = companion_matrix ** k\n",
    "    newton_sums.append(newton_sum_k.trace())\n",
    "\n",
    "newton_sums"
   ]
  },
  {
   "cell_type": "code",
   "execution_count": 8,
   "metadata": {},
   "outputs": [
    {
     "data": {
      "text/latex": [
       "$\\displaystyle \\left[\\begin{matrix}2 & 0\\\\0 & -2.0\\end{matrix}\\right]$"
      ],
      "text/plain": [
       "⎡2   0  ⎤\n",
       "⎢       ⎥\n",
       "⎣0  -2.0⎦"
      ]
     },
     "execution_count": 8,
     "metadata": {},
     "output_type": "execute_result"
    }
   ],
   "source": [
    "# construct the Hankel matrix\n",
    "hankel_matrix = sp.zeros(deg)\n",
    "for i in range(deg):\n",
    "    for j in range(deg):\n",
    "        hankel_matrix[i, j] = newton_sums[i+j]\n",
    "\n",
    "hankel_matrix\n"
   ]
  },
  {
   "cell_type": "code",
   "execution_count": 9,
   "metadata": {},
   "outputs": [
    {
     "data": {
      "text/latex": [
       "$\\displaystyle \\left( \\left[\\begin{matrix}1.0 & 0\\\\0 & 1.0\\end{matrix}\\right], \\  \\left[\\begin{matrix}2.0 & 0\\\\0 & -2.0\\end{matrix}\\right]\\right)$"
      ],
      "text/plain": [
       "⎛⎡1.0   0 ⎤  ⎡2.0   0  ⎤⎞\n",
       "⎜⎢        ⎥, ⎢         ⎥⎟\n",
       "⎝⎣ 0   1.0⎦  ⎣ 0   -2.0⎦⎠"
      ]
     },
     "execution_count": 9,
     "metadata": {},
     "output_type": "execute_result"
    }
   ],
   "source": [
    "hankel_diag = hankel_matrix.diagonalize()\n",
    "hankel_diag"
   ]
  },
  {
   "cell_type": "code",
   "execution_count": 10,
   "metadata": {},
   "outputs": [
    {
     "data": {
      "text/latex": [
       "$\\displaystyle \\left[\\begin{matrix}2.0 & -2.0\\end{matrix}\\right]$"
      ],
      "text/plain": [
       "[2.0  -2.0]"
      ]
     },
     "execution_count": 10,
     "metadata": {},
     "output_type": "execute_result"
    }
   ],
   "source": [
    "hankel_diagonal = hankel_diag[1].diagonal()\n",
    "hankel_diagonal"
   ]
  },
  {
   "cell_type": "code",
   "execution_count": 11,
   "metadata": {},
   "outputs": [
    {
     "data": {
      "image/png": "[encoded data removed]",
      "text/latex": [
       "$\\displaystyle \\left[ 2.0, \\  -2.0\\right]$"
      ],
      "text/plain": [
       "[2.0, -2.0]"
      ]
     },
     "execution_count": 11,
     "metadata": {},
     "output_type": "execute_result"
    }
   ],
   "source": [
    "# alternative approach, just calculate the eigenvalues of the Hankel matrix\n",
    "eigenvalues_dict = hankel_matrix.eigenvals()\n",
    "# covert the output dictionary with multiplicities to a list of eigenvalues\n",
    "eigenvalues = [key for key, value in eigenvalues_dict.items() for _ in range(value)]\n",
    "eigenvalues"
   ]
  },
  {
   "cell_type": "markdown",
   "metadata": {},
   "source": [
    "Rank of the matrix:"
   ]
  },
  {
   "cell_type": "code",
   "execution_count": 12,
   "metadata": {},
   "outputs": [
    {
     "data": {
      "image/png": "[encoded data removed]",
      "text/latex": [
       "$\\displaystyle 2$"
      ],
      "text/plain": [
       "2"
      ]
     },
     "execution_count": 12,
     "metadata": {},
     "output_type": "execute_result"
    }
   ],
   "source": [
    "# calculate the rank of the Hankel matrix\n",
    "rank = hankel_matrix.rank()\n",
    "rank"
   ]
  },
  {
   "cell_type": "markdown",
   "metadata": {},
   "source": [
    "Signature of the matrix:"
   ]
  },
  {
   "cell_type": "code",
   "execution_count": 13,
   "metadata": {},
   "outputs": [
    {
     "data": {
      "image/png": "[encoded data removed]",
      "text/latex": [
       "$\\displaystyle 0$"
      ],
      "text/plain": [
       "0"
      ]
     },
     "execution_count": 13,
     "metadata": {},
     "output_type": "execute_result"
    }
   ],
   "source": [
    "# Count the positive and negative elements of the diagonal of the Hankel matrix\n",
    "positive_signs = sum(1 for eigenvalue in hankel_diagonal if eigenvalue > 0)\n",
    "negative_signs = sum(1 for eigenvalue in hankel_diagonal if eigenvalue < 0)\n",
    "\n",
    "# Calculate the signature\n",
    "signature = positive_signs - negative_signs\n",
    "signature"
   ]
  },
  {
   "cell_type": "markdown",
   "metadata": {},
   "source": [
    "Roots again:"
   ]
  },
  {
   "cell_type": "code",
   "execution_count": 14,
   "metadata": {},
   "outputs": [
    {
     "data": {
      "image/png": "[encoded data removed]",
      "text/latex": [
       "$\\displaystyle \\left[ - 1.0 i, \\  1.0 i\\right]$"
      ],
      "text/plain": [
       "[-1.0⋅ⅈ, 1.0⋅ⅈ]"
      ]
     },
     "execution_count": 14,
     "metadata": {},
     "output_type": "execute_result"
    }
   ],
   "source": [
    "roots"
   ]
  }
 ],
 "metadata": {
  "kernelspec": {
   "display_name": ".venv",
   "language": "python",
   "name": "python3"
  },
  "language_info": {
   "codemirror_mode": {
    "name": "ipython",
    "version": 3
   },
   "file_extension": ".py",
   "mimetype": "text/x-python",
   "name": "python",
   "nbconvert_exporter": "python",
   "pygments_lexer": "ipython3",
   "version": "3.11.5"
  }
 },
 "nbformat": 4,
 "nbformat_minor": 2
}
