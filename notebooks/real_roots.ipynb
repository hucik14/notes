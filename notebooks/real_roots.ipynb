{
 "cells": [
  {
   "cell_type": "markdown",
   "metadata": {},
   "source": [
    "### Real Zeros of Polynomials"
   ]
  },
  {
   "cell_type": "code",
   "execution_count": 194,
   "metadata": {},
   "outputs": [],
   "source": [
    "import sympy as sp\n",
    "import numpy as np\n",
    "import matplotlib.pyplot as plt\n",
    "%matplotlib inline\n",
    "\n",
    "# initiate pretty print\n",
    "sp.init_printing()\n",
    "\n",
    "# define parameter\n",
    "t = sp.Symbol('t')"
   ]
  },
  {
   "cell_type": "markdown",
   "metadata": {},
   "source": [
    "Define polynomial"
   ]
  },
  {
   "cell_type": "code",
   "execution_count": 195,
   "metadata": {},
   "outputs": [
    {
     "data": {
      "image/png": "[encoded data removed]",
      "text/latex": [
       "$\\displaystyle - 2 t^{4} + 3 t^{3} + t^{2} - 1$"
      ],
      "text/plain": [
       "     4      3    2    \n",
       "- 2⋅t  + 3⋅t  + t  - 1"
      ]
     },
     "execution_count": 195,
     "metadata": {},
     "output_type": "execute_result"
    }
   ],
   "source": [
    "my_polynomial = t**2 - 1 + 3*t**3 - 2*t**4\n",
    "my_polynomial"
   ]
  },
  {
   "cell_type": "markdown",
   "metadata": {},
   "source": [
    "Check: find roots (solve p for t), and plot it"
   ]
  },
  {
   "cell_type": "code",
   "execution_count": 196,
   "metadata": {},
   "outputs": [
    {
     "data": {
      "image/png": "[encoded data removed]",
      "text/latex": [
       "$\\displaystyle \\left[ 0.687268267771122, \\  1.69228948072627, \\  -0.439778874248698 - 0.48630868537012 i, \\  -0.439778874248698 + 0.48630868537012 i\\right]$"
      ],
      "text/plain": [
       "[0.687268267771122, 1.69228948072627, -0.439778874248698 - 0.48630868537012⋅ⅈ,\n",
       " -0.439778874248698 + 0.48630868537012⋅ⅈ]"
      ]
     },
     "execution_count": 196,
     "metadata": {},
     "output_type": "execute_result"
    }
   ],
   "source": [
    "# define Sympy polynomial object \n",
    "p = sp.Poly(my_polynomial, t, domain='RR')\n",
    "\n",
    "# get roots of p for t\n",
    "roots = sp.solve(p, t)\n",
    "roots"
   ]
  },
  {
   "cell_type": "code",
   "execution_count": 197,
   "metadata": {},
   "outputs": [
    {
     "data": {
      "image/png": "[encoded data removed]",
      "text/plain": [
       "<Figure size 640x480 with 1 Axes>"
      ]
     },
     "metadata": {},
     "output_type": "display_data"
    }
   ],
   "source": [
    "ax = sp.plot(my_polynomial, xlim=(-2, 2), ylim=(-2,4), aspect_ratio=(1,1))"
   ]
  },
  {
   "cell_type": "markdown",
   "metadata": {},
   "source": [
    "Prepare polynomial, companion matrix, newton sums, Hankel matrix"
   ]
  },
  {
   "cell_type": "code",
   "execution_count": 198,
   "metadata": {},
   "outputs": [
    {
     "data": {
      "image/png": "[encoded data removed]",
      "text/latex": [
       "$\\displaystyle \\left[ -2.0, \\  3.0, \\  1.0, \\  0.0, \\  -1.0\\right]$"
      ],
      "text/plain": [
       "[-2.0, 3.0, 1.0, 0.0, -1.0]"
      ]
     },
     "execution_count": 198,
     "metadata": {},
     "output_type": "execute_result"
    }
   ],
   "source": [
    "# get coefficients and degree of polynomial\n",
    "coeffs = p.all_coeffs()\n",
    "deg = p.degree()\n",
    "coeffs"
   ]
  },
  {
   "cell_type": "code",
   "execution_count": 199,
   "metadata": {},
   "outputs": [
    {
     "data": {
      "text/latex": [
       "$\\displaystyle \\left[\\begin{matrix}0 & 0 & 0 & 1.0\\\\1 & 0 & 0 & 0\\\\0 & 1 & 0 & -1.0\\\\0 & 0 & 1 & -3.0\\end{matrix}\\right]$"
      ],
      "text/plain": [
       "⎡0  0  0  1.0 ⎤\n",
       "⎢             ⎥\n",
       "⎢1  0  0   0  ⎥\n",
       "⎢             ⎥\n",
       "⎢0  1  0  -1.0⎥\n",
       "⎢             ⎥\n",
       "⎣0  0  1  -3.0⎦"
      ]
     },
     "execution_count": 199,
     "metadata": {},
     "output_type": "execute_result"
    }
   ],
   "source": [
    "# companion matrix\n",
    "companion_matrix = sp.zeros(deg)\n",
    "for i in range(deg - 1):\n",
    "    companion_matrix[i + 1, i] = 1\n",
    "for i in range(deg):\n",
    "    companion_matrix[i, -1] = -1 * coeffs[::-1][i]\n",
    "\n",
    "companion_matrix\n",
    "\n"
   ]
  },
  {
   "cell_type": "code",
   "execution_count": 200,
   "metadata": {},
   "outputs": [
    {
     "data": {
      "image/png": "[encoded data removed]",
      "text/latex": [
       "$\\displaystyle \\left[ 4, \\  -3.0, \\  7.0, \\  -18.0, \\  51.0, \\  -138.0, \\  370.0\\right]$"
      ],
      "text/plain": [
       "[4, -3.0, 7.0, -18.0, 51.0, -138.0, 370.0]"
      ]
     },
     "execution_count": 200,
     "metadata": {},
     "output_type": "execute_result"
    }
   ],
   "source": [
    "# newton sums\n",
    "# k-th newton sum is the trace of the k-th power of the companion matrix\n",
    "newton_sums = []\n",
    "for k in range(2*deg - 1):\n",
    "    newton_sum_k = companion_matrix ** k\n",
    "    newton_sums.append(newton_sum_k.trace())\n",
    "\n",
    "newton_sums"
   ]
  },
  {
   "cell_type": "code",
   "execution_count": 201,
   "metadata": {},
   "outputs": [
    {
     "data": {
      "text/latex": [
       "$\\displaystyle \\left[\\begin{matrix}4 & -3.0 & 7.0 & -18.0\\\\-3.0 & 7.0 & -18.0 & 51.0\\\\7.0 & -18.0 & 51.0 & -138.0\\\\-18.0 & 51.0 & -138.0 & 370.0\\end{matrix}\\right]$"
      ],
      "text/plain": [
       "⎡  4    -3.0    7.0    -18.0 ⎤\n",
       "⎢                            ⎥\n",
       "⎢-3.0    7.0   -18.0    51.0 ⎥\n",
       "⎢                            ⎥\n",
       "⎢ 7.0   -18.0   51.0   -138.0⎥\n",
       "⎢                            ⎥\n",
       "⎣-18.0  51.0   -138.0  370.0 ⎦"
      ]
     },
     "execution_count": 201,
     "metadata": {},
     "output_type": "execute_result"
    }
   ],
   "source": [
    "# construct the Hankel matrix\n",
    "hermite_matrix = sp.zeros(deg)\n",
    "for i in range(deg):\n",
    "    for j in range(deg):\n",
    "        hermite_matrix[i, j] = newton_sums[i+j]\n",
    "\n",
    "hermite_matrix\n"
   ]
  },
  {
   "cell_type": "code",
   "execution_count": 202,
   "metadata": {},
   "outputs": [],
   "source": [
    "# construct the Hermite matrix using numpy\n",
    "hermite_matrix_np = np.zeros((deg, deg))\n",
    "for i in range(deg):\n",
    "    for j in range(deg):\n",
    "        hermite_matrix_np[i, j] = newton_sums[i+j]\n"
   ]
  },
  {
   "cell_type": "code",
   "execution_count": 203,
   "metadata": {},
   "outputs": [
    {
     "name": "stdout",
     "output_type": "stream",
     "text": [
      "[[   4.            0.            0.            0.        ]\n",
      " [   0.            2.5           0.            0.        ]\n",
      " [   0.            0.         -103.55          0.        ]\n",
      " [   0.            0.            0.         -778.27353935]]\n"
     ]
    }
   ],
   "source": [
    "def symmetric_gaussian_elimination(A):\n",
    "    n = len(A)\n",
    "\n",
    "    # Create an identity matrix\n",
    "    I = np.eye(n)\n",
    "\n",
    "    # Create a copy of A to avoid modifying the original matrix\n",
    "    Ab = np.copy(A)\n",
    "\n",
    "    # Perform forward elimination without normalizing rows\n",
    "    for i in range(n):\n",
    "        # Eliminate other rows\n",
    "        for j in range(i + 1, n):\n",
    "            factor = Ab[j, i] / Ab[i, i]\n",
    "            Ab[j, :] -= factor * Ab[i, :]\n",
    "            Ab[:, j] -= factor * Ab[i, :]\n",
    "\n",
    "    # Perform back-substitution\n",
    "    for i in range(n - 1, -1, -1):\n",
    "        for j in range(i - 1, -1, -1):\n",
    "            factor = Ab[j, i]\n",
    "            Ab[j, :] -= factor * Ab[i, :]\n",
    "            Ab[:, j] -= factor * Ab[i, :]\n",
    "\n",
    "    return Ab\n",
    "\n",
    "\n",
    "D = symmetric_gaussian_elimination(hermite_matrix_np)\n",
    "diag = np.diag(D)\n",
    "print(D)\n",
    "\n"
   ]
  },
  {
   "cell_type": "code",
   "execution_count": 204,
   "metadata": {},
   "outputs": [
    {
     "data": {
      "image/png": "[encoded data removed]",
      "text/latex": [
       "$\\displaystyle 0$"
      ],
      "text/plain": [
       "0"
      ]
     },
     "execution_count": 204,
     "metadata": {},
     "output_type": "execute_result"
    }
   ],
   "source": [
    "# Count the positive and negative elements of D\n",
    "positive_elements = sum(1 for val in diag if val > 0)\n",
    "negative_elements = sum(1 for val in diag if val < 0)\n",
    "sign = positive_elements - negative_elements\n",
    "sign"
   ]
  },
  {
   "cell_type": "code",
   "execution_count": 205,
   "metadata": {},
   "outputs": [
    {
     "data": {
      "image/png": "[encoded data removed]",
      "text/latex": [
       "$\\displaystyle \\left[ 3.19265840303216, \\  0.760787146258109, \\  -1.20369802017219, \\  429.250252470882\\right]$"
      ],
      "text/plain": [
       "[3.19265840303216, 0.760787146258109, -1.20369802017219, 429.250252470882]"
      ]
     },
     "execution_count": 205,
     "metadata": {},
     "output_type": "execute_result"
    }
   ],
   "source": [
    "# alternative approach, just calculate the eigenvalues of the Hankel matrix\n",
    "eigenvalues_dict = hermite_matrix.eigenvals()\n",
    "# covert the output dictionary with multiplicities to a list of eigenvalues\n",
    "eigenvalues = [key for key, value in eigenvalues_dict.items() for _ in range(value)]\n",
    "eigenvalues"
   ]
  },
  {
   "cell_type": "markdown",
   "metadata": {},
   "source": [
    "Rank of the matrix:"
   ]
  },
  {
   "cell_type": "code",
   "execution_count": 206,
   "metadata": {},
   "outputs": [
    {
     "data": {
      "image/png": "[encoded data removed]",
      "text/latex": [
       "$\\displaystyle 4$"
      ],
      "text/plain": [
       "4"
      ]
     },
     "execution_count": 206,
     "metadata": {},
     "output_type": "execute_result"
    }
   ],
   "source": [
    "# calculate the rank of the Hankel matrix\n",
    "rank = hermite_matrix.rank()\n",
    "rank"
   ]
  },
  {
   "cell_type": "markdown",
   "metadata": {},
   "source": [
    "Signature of the matrix:"
   ]
  },
  {
   "cell_type": "code",
   "execution_count": 207,
   "metadata": {},
   "outputs": [
    {
     "data": {
      "image/png": "[encoded data removed]",
      "text/latex": [
       "$\\displaystyle 2$"
      ],
      "text/plain": [
       "2"
      ]
     },
     "execution_count": 207,
     "metadata": {},
     "output_type": "execute_result"
    }
   ],
   "source": [
    "# Count the positive and negative elements of the diagonal of the Hankel matrix\n",
    "positive_eigenvalues = sum(1 for eigenvalue in eigenvalues if eigenvalue > 0)\n",
    "negative_eigenvalues = sum(1 for eigenvalue in eigenvalues if eigenvalue < 0)\n",
    "\n",
    "# Calculate the signature\n",
    "signature = positive_eigenvalues - negative_eigenvalues\n",
    "signature"
   ]
  },
  {
   "cell_type": "markdown",
   "metadata": {},
   "source": [
    "Roots again:"
   ]
  },
  {
   "cell_type": "code",
   "execution_count": 208,
   "metadata": {},
   "outputs": [
    {
     "name": "stdout",
     "output_type": "stream",
     "text": [
      "------------\n",
      "------------\n",
      "Rank: 4\n",
      "Sign: 0\n",
      "Sign: 2 (using eigenvals)\n",
      "Roots: [0.687268267771122, 1.69228948072627, -0.439778874248698 - 0.48630868537012*I, -0.439778874248698 + 0.48630868537012*I]\n",
      "------------\n"
     ]
    }
   ],
   "source": [
    "print('------------')\n",
    "print('------------')\n",
    "print(f\"Rank: {rank}\")\n",
    "print(f\"Sign: {sign}\")\n",
    "print(f\"Sign: {signature} (using eigenvals)\")\n",
    "print(f'Roots: {roots}')\n",
    "print('------------')"
   ]
  }
 ],
 "metadata": {
  "kernelspec": {
   "display_name": ".venv",
   "language": "python",
   "name": "python3"
  },
  "language_info": {
   "codemirror_mode": {
    "name": "ipython",
    "version": 3
   },
   "file_extension": ".py",
   "mimetype": "text/x-python",
   "name": "python",
   "nbconvert_exporter": "python",
   "pygments_lexer": "ipython3",
   "version": "3.11.5"
  }
 },
 "nbformat": 4,
 "nbformat_minor": 2
}
